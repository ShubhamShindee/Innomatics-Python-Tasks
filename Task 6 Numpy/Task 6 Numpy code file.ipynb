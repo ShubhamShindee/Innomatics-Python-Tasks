{
 "cells": [
  {
   "cell_type": "code",
   "execution_count": 2,
   "metadata": {},
   "outputs": [],
   "source": [
    "import numpy "
   ]
  },
  {
   "cell_type": "markdown",
   "metadata": {},
   "source": [
    "## Numpy Arrays\n",
    "You are given a space separated list of numbers.\n",
    "Your task is to print a reversed NumPy array with the element type float .\n",
    "\n",
    "### Input Format\n",
    "A single line of input containing space separated numbers.\n",
    "\n",
    "#### Output Format\n",
    "Print the reverse NumPy array with type float.\n",
    "\n",
    "### Sample Input\n",
    "1 2 3 4 -8 -10\n",
    "\n",
    "### Sample Output\n",
    "[-10. -8. 4. 3. 2. 1."
   ]
  },
  {
   "cell_type": "code",
   "execution_count": 3,
   "metadata": {},
   "outputs": [
    {
     "name": "stdout",
     "output_type": "stream",
     "text": [
      "Input\n",
      "1 2 3 4 -8 -10\n",
      "\n",
      "Output\n",
      "[-10.  -8.   4.   3.   2.   1.]\n"
     ]
    }
   ],
   "source": [
    "def arrays(arr):\n",
    "    arr=numpy.array(arr,float)\n",
    "    return arr[-1::-1]\n",
    "\n",
    "print('Input')\n",
    "arr = input().strip().split(' ')\n",
    "result = arrays(arr)\n",
    "print('\\nOutput')\n",
    "print(result)"
   ]
  },
  {
   "cell_type": "markdown",
   "metadata": {},
   "source": [
    "## Q.2 Shape and Reshape\n",
    "\n",
    "You are given a space separated list of nine integers. Your task is to convert this list into a 3X3 NumPy\n",
    "array.\n",
    "\n",
    "### Input Format\n",
    "A single line of input containing 9 space separated integers.\n",
    "\n",
    "### Output Format\n",
    "Print the 3X3 NumPy array.\n",
    "\n",
    "### Sample Input\n",
    "(a). Using shape to get array dimensions\n",
    "\n",
    "(b). Using shape to change array dimensions\n",
    "\n",
    "1 2 3 4 5 6 7 8 9\n",
    "### Sample Output\n",
    "    [[1 2 3]\n",
    "     [4 5 6]\n",
    "     [7 8 9]]"
   ]
  },
  {
   "cell_type": "code",
   "execution_count": 4,
   "metadata": {},
   "outputs": [
    {
     "name": "stdout",
     "output_type": "stream",
     "text": [
      "Input\n",
      "1 2 3 4 5 6 7 8 9\n",
      "\n",
      "Output\n",
      "[[1 2 3]\n",
      " [4 5 6]\n",
      " [7 8 9]]\n"
     ]
    }
   ],
   "source": [
    "import numpy as np\n",
    "print('Input')\n",
    "arr=input().split()\n",
    "arr=np.array(arr,int).reshape(3,3)\n",
    "print('\\nOutput')\n",
    "print(arr)"
   ]
  },
  {
   "cell_type": "markdown",
   "metadata": {},
   "source": [
    "## Q.3 Transpose and Flatten\n",
    "\n",
    "You are given a N X M integer array matrix with space separated elements ( N = rows and M = columns).\n",
    "Your task is to print the transpose and flatten results.\n",
    "\n",
    "### Input Format\n",
    "The first line contains the space separated values of N and M .\n",
    "The next lines contains the space separated elements of M columns.\n",
    "\n",
    "### Output Format\n",
    "First, print the transpose array and then print the flatten.\n",
    "\n",
    "### Sample Input\n",
    "    2 2\n",
    "    1 2\n",
    "    3 4\n",
    "### Sample Output\n",
    "    [[1 3]\n",
    "     [2 4]]\n",
    "    [1 2 3 4]"
   ]
  },
  {
   "cell_type": "code",
   "execution_count": 6,
   "metadata": {},
   "outputs": [
    {
     "name": "stdout",
     "output_type": "stream",
     "text": [
      "2 2\n",
      "1 2\n",
      "3 4\n",
      "[[1 3]\n",
      " [2 4]]\n",
      "[1 2 3 4]\n"
     ]
    }
   ],
   "source": [
    "\n",
    "N,M=map(int,input().split())\n",
    "arr=np.array([input().split() for i in range (N)],int).reshape(N,M)\n",
    "print(np.transpose(arr))\n",
    "print(arr.flatten())\n"
   ]
  },
  {
   "cell_type": "markdown",
   "metadata": {},
   "source": [
    "## Q.4 Np.concatenate\n",
    "\n",
    "You are given two integer arrays of size N X P and M X P (N & M are rows, and P is the column). Your\n",
    "task is to concatenate the arrays along axis 0 .\n",
    "### Input Format\n",
    "\n",
    "The first line contains space separated integers N,M and P.\n",
    "\n",
    "The next N lines contains the space separated elements of the P columns.\n",
    "\n",
    "After that, the next  M lines contains the space separated elements of theP  columns.\n",
    "\n",
    "### Output Format\n",
    "Print the concatenated array of size(N+M) X P .\n",
    "\n",
    "### Sample Input\n",
    "\n",
    "    4 3 2\n",
    "    1 2\n",
    "    1 2\n",
    "    1 2\n",
    "    1 2\n",
    "    3 4\n",
    "    3 4\n",
    "    3 4\n",
    "\n",
    "### Sample Output\n",
    "    [[1 2]\n",
    "     [1 2]\n",
    "     [1 2]\n",
    "     [1 2]\n",
    "     [3 4]\n",
    "     [3 4]\n",
    "     [3 4]] \n",
    "\n"
   ]
  },
  {
   "cell_type": "code",
   "execution_count": 4,
   "metadata": {},
   "outputs": [
    {
     "name": "stdout",
     "output_type": "stream",
     "text": [
      "4 3 2\n",
      "1 2 \n",
      "1 2 \n",
      "1 2 \n",
      "1 2\n",
      "3 4\n",
      "3 4\n",
      "3 4\n",
      "\n",
      "Output\n",
      "\n",
      "[[1 2]\n",
      " [1 2]\n",
      " [1 2]\n",
      " [1 2]\n",
      " [3 4]\n",
      " [3 4]\n",
      " [3 4]]\n"
     ]
    }
   ],
   "source": [
    "import numpy as np\n",
    "N,M,P=map(int,input().split())\n",
    "arr1=np.array([input().split()for i in range(N)],int)\n",
    "arr2=np.array([input().split()for i in range(M)],int)\n",
    "\n",
    "arr=np.concatenate((arr1,arr2),axis=0)\n",
    "print('\\nOutput\\n')\n",
    "print(arr)\n"
   ]
  },
  {
   "cell_type": "markdown",
   "metadata": {},
   "source": [
    "## Q.5 Numpy zeros and ones\n",
    "You are given the shape of the array in the form of space-separated integers, each integer representing\n",
    "the size of different dimensions, your task is to print an array of the given shape and integer type using\n",
    "the tools numpy.zeros and numpy.ones .\n",
    "\n",
    "### Input Format\n",
    "A single line containing the space-separated integers.\n",
    "\n",
    "### Output Format\n",
    "First, print the array using the numpy.zeros tool and then print the array with the numpy.ones tool.\n",
    "\n",
    "### Sample Input 0\n",
    "3 3 3\n",
    "\n",
    "#### Sample Output 0\n",
    "    [[[0 0 0]\n",
    "      [0 0 0]\n",
    "      [0 0 0]]\n",
    "\n",
    "     [[0 0 0]\n",
    "      [0 0 0]\n",
    "      [0 0 0]]\n",
    "\n",
    "     [[0 0 0]\n",
    "      [0 0 0]\n",
    "      [0 0 0]]]\n",
    "     \n",
    "    [[[1 1 1]\n",
    "      [1 1 1]\n",
    "      [1 1 1]]\n",
    "\n",
    "     [[1 1 1]\n",
    "      [1 1 1]\n",
    "      [1 1 1]]\n",
    "\n",
    "     [[1 1 1]\n",
    "      [1 1 1]\n",
    "      [1 1 1]]]\n"
   ]
  },
  {
   "cell_type": "code",
   "execution_count": 5,
   "metadata": {},
   "outputs": [
    {
     "name": "stdout",
     "output_type": "stream",
     "text": [
      "3 3 3\n",
      "[[[0 0 0]\n",
      "  [0 0 0]\n",
      "  [0 0 0]]\n",
      "\n",
      " [[0 0 0]\n",
      "  [0 0 0]\n",
      "  [0 0 0]]\n",
      "\n",
      " [[0 0 0]\n",
      "  [0 0 0]\n",
      "  [0 0 0]]]\n",
      "[[[1 1 1]\n",
      "  [1 1 1]\n",
      "  [1 1 1]]\n",
      "\n",
      " [[1 1 1]\n",
      "  [1 1 1]\n",
      "  [1 1 1]]\n",
      "\n",
      " [[1 1 1]\n",
      "  [1 1 1]\n",
      "  [1 1 1]]]\n"
     ]
    }
   ],
   "source": [
    "import numpy as np\n",
    "dim=tuple(map(int,input().split()))\n",
    "arr1=np.zeros(dim,dtype=np.int)\n",
    "arr2=np.ones(dim,dtype=np.int)\n",
    "print(arr1)\n",
    "print(arr2)\n"
   ]
  },
  {
   "cell_type": "markdown",
   "metadata": {},
   "source": [
    "## Q.6 Numpy Eyes and Identity \n",
    "Your task is to print an array of size N X M with its main diagonal elements as 0's and 1's everywhere else.\n",
    "\n",
    "### Input Format\n",
    "A single line containing the space separated values of N and M .\n",
    "N denotes the rows.\n",
    "M denotes the columns.\n",
    "\n",
    "### Output Format\n",
    "Print the desired N X M array.\n",
    "\n",
    "### Sample Input\n",
    "3 3\n",
    "\n",
    "### Sample Output\n",
    "  \n",
    "    [[ 1.  0.  0.]\n",
    "     [ 0.  1.  0.]\n",
    "     [ 0.  0.  1.]]"
   ]
  },
  {
   "cell_type": "code",
   "execution_count": 1,
   "metadata": {},
   "outputs": [
    {
     "name": "stdout",
     "output_type": "stream",
     "text": [
      "3 3\n",
      "[[ 1.  0.  0.]\n",
      " [ 0.  1.  0.]\n",
      " [ 0.  0.  1.]]\n"
     ]
    }
   ],
   "source": [
    "import numpy as np\n",
    "np.set_printoptions(legacy='1.13')\n",
    "\n",
    "N,M=map(int,input().split())\n",
    " \n",
    "arr=np.eye(N,M)\n",
    "print(arr)"
   ]
  },
  {
   "cell_type": "markdown",
   "metadata": {},
   "source": [
    "## Q.7 Array Maths\n",
    "You are given two arrays (A & B) of dimensions N X M .\n",
    "Your task is to perform the following operations:\n",
    "1. Add (A + B)\n",
    "2. Subtract (A - B)\n",
    "3. Multiply (A * B)\n",
    "4. Divide (A / B)\n",
    "5. Mod (A % B)\n",
    "6. Power (A ** B)\n",
    "\n",
    "### Input Format\n",
    "The first line contains two space separated integers,N and M.\n",
    "\n",
    "The next N lines contains M space separated integers of array A .\n",
    "\n",
    "The following lines A contains M space separated integers of array B.\n",
    "\n",
    "### Output Format\n",
    "Print the result of each operation in the given order under Task.\n",
    "\n",
    "### Sample Input\n",
    "    1 4\n",
    "    1 2 3 4\n",
    "    5 6 7 8\n",
    "\n",
    "### Sample Output\n",
    "\n",
    "    [[ 6 8 10 12]]\n",
    "    [[-4 -4 -4 -4]]\n",
    "    [[ 5 12 21 32]]\n",
    "    [[0 0 0 0]]\n",
    "    [[1 2 3 4]]\n",
    "    [[ 1 64 2187 65536]]"
   ]
  },
  {
   "cell_type": "code",
   "execution_count": 3,
   "metadata": {},
   "outputs": [
    {
     "name": "stdout",
     "output_type": "stream",
     "text": [
      "Input\n",
      "1 4\n",
      "1 2 3 4\n",
      "5 6 7 8\n",
      "\n",
      "Output\n",
      "\n",
      "[[ 6  8 10 12]]\n",
      "[[-4 -4 -4 -4]]\n",
      "[[ 5 12 21 32]]\n",
      "[[0 0 0 0]]\n",
      "[[1 2 3 4]]\n",
      "[[    1    64  2187 65536]]\n"
     ]
    }
   ],
   "source": [
    "import numpy as np\n",
    "print('Input')\n",
    "N,M=map(int,input().split())\n",
    "\n",
    "A=np.array([input().split() for i in range (N)],int)\n",
    "B=np.array([input().split() for i in range (N)],int)\n",
    "\n",
    "print('\\nOutput\\n')\n",
    "print(A+B)\n",
    "print(A-B)\n",
    "print(A*B)\n",
    "print(A//B)\n",
    "print(A%B)\n",
    "print(A**B)\n",
    "\n",
    "\n"
   ]
  },
  {
   "cell_type": "markdown",
   "metadata": {},
   "source": [
    "## Q.8 Floor, Ceil and Rint\n",
    "\n",
    "You are given a 1-D array,A. Your task is to print the floor,ceil and rint of all the elements of A.\n",
    "\n",
    "### Input Format\n",
    "A single line of input containing the space separated elements of array A\n",
    "\n",
    "### Output Format\n",
    "On the first line, print floor of A.\n",
    "On the second line, print the ceilof A.\n",
    "On the third line, print the rint of A.\n",
    "\n",
    "### Sample Input \n",
    "1.1 2.2 3.3 4.4 5.5 6.6 7.7 8.8 9.9\n",
    "\n",
    "### Sample Output\n",
    "    [ 1.  2.  3.  4.  5.  6.  7.  8.  9.]\n",
    "    [  2.   3.   4.   5.   6.   7.   8.   9.  10.]\n",
    "    [  1.   2.   3.   4.   6.   7.   8.   9.  10.]"
   ]
  },
  {
   "cell_type": "code",
   "execution_count": 4,
   "metadata": {},
   "outputs": [
    {
     "name": "stdout",
     "output_type": "stream",
     "text": [
      "input\n",
      "1.1 2.2 3.3 4.4 5.5 6.6 7.7 8.8 9.9\n",
      "\n",
      "Output\n",
      "[ 1.  2.  3.  4.  5.  6.  7.  8.  9.]\n",
      "[  2.   3.   4.   5.   6.   7.   8.   9.  10.]\n",
      "[  1.   2.   3.   4.   6.   7.   8.   9.  10.]\n"
     ]
    }
   ],
   "source": [
    "import numpy as np\n",
    "np.set_printoptions(legacy='1.13')\n",
    "\n",
    "print('input')\n",
    "A=np.array(input().split(),float)\n",
    "\n",
    "print('\\nOutput')\n",
    "print(np.floor(A))\n",
    "print(np.ceil(A))\n",
    "print(np.rint(A))\n",
    "\n"
   ]
  },
  {
   "cell_type": "markdown",
   "metadata": {},
   "source": [
    "## Q.9 Sum and Prod\n",
    "\n",
    "You are given a 2-D array with dimensions N X M.Your task is to perform the sum tool over axis 0 and then find the product of that result.\n",
    "\n",
    "### Input Format\n",
    "The first line of input contains space separated values of N and M .\n",
    "\n",
    "The next N lines contains M space separated integers.\n",
    "\n",
    "### Output Format\n",
    "Compute the sum along axis 0 . Then, print the product of that sum.\n",
    "\n",
    "### Sample Input\n",
    "    2 2\n",
    "    1 2\n",
    "    3 4\n",
    "\n",
    "### Sample Output\n",
    "    24\n"
   ]
  },
  {
   "cell_type": "code",
   "execution_count": 7,
   "metadata": {},
   "outputs": [
    {
     "name": "stdout",
     "output_type": "stream",
     "text": [
      "input\n",
      "2 2 \n",
      "1 2\n",
      "3 4\n",
      "\n",
      "Outut\n",
      "24\n"
     ]
    }
   ],
   "source": [
    "import numpy as np\n",
    "print('input')\n",
    "N,M=map(int,input().split())\n",
    "\n",
    "A=np.array([input().split()for i in range(N)],int)\n",
    "\n",
    "Sum=np.sum(A,axis=0)\n",
    "print('\\nOutut')\n",
    "print(np.prod(Sum))\n"
   ]
  },
  {
   "cell_type": "markdown",
   "metadata": {},
   "source": [
    "## Q.10 Numpy Min and Max\n",
    "\n",
    "You are given a 2-D array with dimensions N X M .\n",
    "Your task is to perform the min function over axis 1 and then find the max of that.\n",
    "\n",
    "### Input Format\n",
    "The first line of input contains the space separated values of N and M .\n",
    "The next N lines contains M space separated integers.\n",
    "\n",
    "### Output Format\n",
    "Compute the min along axis 1 and then print the max of that result.\n",
    "\n",
    "### Sample Input\n",
    "    4 2\n",
    "    2 5\n",
    "    3 7\n",
    "    1 3\n",
    "    4 0\n",
    "\n",
    "### Sample Output\n",
    "    3"
   ]
  },
  {
   "cell_type": "code",
   "execution_count": 8,
   "metadata": {},
   "outputs": [
    {
     "name": "stdout",
     "output_type": "stream",
     "text": [
      "Input\n",
      "4 2 \n",
      "2 5 \n",
      "3 7 \n",
      "1 3 \n",
      "4 0 \n",
      "\n",
      "Output\n",
      "3\n"
     ]
    }
   ],
   "source": [
    "import numpy as np\n",
    "print('Input')\n",
    "N,M=map(int,input().split())\n",
    "\n",
    "A=np.array([input().split() for i in range (N)],int)\n",
    "\n",
    "Min=np.min(A,axis=1)\n",
    "print('\\nOutput')\n",
    "print(np.max(Min))"
   ]
  },
  {
   "cell_type": "markdown",
   "metadata": {},
   "source": [
    "## Q.11 Mean, Var, and Std\n",
    "\n",
    "You are given a 2-D array of size N X M.\n",
    "Your task is to find:\n",
    "1. The mean along axis 1\n",
    "2. The var along axis 0\n",
    "3. The std along axis None\n",
    "\n",
    "### Input Format\n",
    "The first line contains the space separated values of N and M .\n",
    "The next N lines contains M space separated integers.\n",
    "\n",
    "### Output Format\n",
    "First, print the mean.\n",
    "Second, print the var.\n",
    "Third, print the std.\n",
    "\n",
    "### Sample Input\n",
    "    2 2\n",
    "    1 2\n",
    "    3 4\n",
    "\n",
    "### Sample Output\n",
    "    [ 1.5 3.5]\n",
    "    [ 1. 1.]\n",
    "    1.11803398875"
   ]
  },
  {
   "cell_type": "code",
   "execution_count": 10,
   "metadata": {},
   "outputs": [
    {
     "name": "stdout",
     "output_type": "stream",
     "text": [
      "Input\n",
      "2 2\n",
      "1 2 \n",
      "3 4\n",
      "Outut\n",
      "[ 1.5  3.5]\n",
      "[ 1.  1.]\n",
      "1.11803398875\n"
     ]
    }
   ],
   "source": [
    "import numpy as np\n",
    "print('Input')\n",
    "\n",
    "N,M=map(int,input().split())\n",
    "arr=np.array([input().split() for i in range (N)],int)\n",
    "\n",
    "print('Outut')\n",
    "print(np.mean(arr,axis=1))\n",
    "print(np.var(arr,axis=0))\n",
    "print(np.std(arr,axis=None).round(11))"
   ]
  },
  {
   "cell_type": "markdown",
   "metadata": {},
   "source": [
    "## Q.12 Dot and Cross\n",
    "\n",
    "You are given two arrays A and B. Both have dimensions of N X N.\n",
    "Your task is to compute their matrix product.\n",
    "\n",
    "### Input Format\n",
    "The first line contains the integer N.\n",
    "\n",
    "The next N lines contains N space separated integers of array A .\n",
    "\n",
    "The following N lines contains N space separated integers of array B .\n",
    "\n",
    "### Output Format\n",
    "Print the matrix multiplication of A and B .\n",
    "\n",
    "### Sample Input\n",
    "    2\n",
    "    1 2\n",
    "    3 4\n",
    "    1 2\n",
    "    3 4\n",
    "\n",
    "### Sample Output\n",
    "    [[ 7 10]\n",
    "    [15 22]"
   ]
  },
  {
   "cell_type": "code",
   "execution_count": 11,
   "metadata": {},
   "outputs": [
    {
     "name": "stdout",
     "output_type": "stream",
     "text": [
      "Input\n",
      "2\n",
      "1 2 \n",
      "3 4 \n",
      "1 2 \n",
      "3 4\n",
      "\n",
      "Output\n",
      "[[ 7 10]\n",
      " [15 22]]\n"
     ]
    }
   ],
   "source": [
    "import numpy as np\n",
    "print('Input')\n",
    "N=int(input())\n",
    "\n",
    "A=np.array([input().split() for i in range (N)],int)\n",
    "B=np.array([input().split() for i in range (N)],int)\n",
    "\n",
    "print('\\nOutput')\n",
    "print(np.dot(A,B))\n"
   ]
  },
  {
   "cell_type": "markdown",
   "metadata": {},
   "source": [
    "## Q.13 Inner and Outer\n",
    "\n",
    "You are given two arrays: A and B .\n",
    "Your task is to compute their inner and outer product.\n",
    "\n",
    "### Input Format\n",
    "The first line contains the space separated elements of array A.\n",
    "\n",
    "The second line contains the space separated elements of array B.\n",
    "\n",
    "### Output Format\n",
    "First, print the inner product.\n",
    "\n",
    "Second, print the outer product.\n",
    "\n",
    "### Sample Input\n",
    "    0 1\n",
    "    2 3\n",
    "\n",
    "### Sample Output\n",
    "    3\n",
    "    [[0 0]\n",
    "     [2 3]"
   ]
  },
  {
   "cell_type": "code",
   "execution_count": 12,
   "metadata": {},
   "outputs": [
    {
     "name": "stdout",
     "output_type": "stream",
     "text": [
      "Input\n",
      "0 1\n",
      "2 3\n",
      "Outut\n",
      "3\n",
      "[[0 0]\n",
      " [2 3]]\n"
     ]
    }
   ],
   "source": [
    "import numpy as np\n",
    "\n",
    "print('Input')\n",
    "A=np.array([input().split()],int)\n",
    "B=np.array([input().split()],int)\n",
    "\n",
    "print('Outut')\n",
    "print(np.inner(A,B)[0][0])\n",
    "print(np.outer(A,B))\n"
   ]
  },
  {
   "cell_type": "markdown",
   "metadata": {},
   "source": [
    "## Q.14 Polynomials\n",
    "\n",
    "You are given the coefficients of a polynomial P .\n",
    "Your task is to find the value of P at point x .\n",
    "\n",
    "### Input Format\n",
    "The first line contains the space separated value of the coefficients in P.\n",
    "The second line contains the value of x.\n",
    "\n",
    "### Output Format\n",
    "Print the desired value.\n",
    "\n",
    "### Sample Input\n",
    "    1.1 2 3\n",
    "    0\n",
    "\n",
    "### Sample Output\n",
    "    3.0"
   ]
  },
  {
   "cell_type": "code",
   "execution_count": 2,
   "metadata": {},
   "outputs": [
    {
     "name": "stdout",
     "output_type": "stream",
     "text": [
      "Input\n",
      "1.1 2 3\n",
      "0\n",
      "\n",
      "Output\n",
      "3.0\n"
     ]
    }
   ],
   "source": [
    "import numpy as np\n",
    "print('Input')\n",
    "arr=list(map(float,input().split()))\n",
    "n=int(input())\n",
    "print('\\nOutput')\n",
    "print(np.polyval(arr,n))"
   ]
  },
  {
   "cell_type": "markdown",
   "metadata": {},
   "source": [
    "## Q.15 Linear Algebra\n",
    "\n",
    "You are given a square matrix A with dimensions N X N. Your task is to find the determinant. Note: Round the answer to 2 places after the decimal.\n",
    "\n",
    "### Input Format\n",
    "\n",
    "The first line contains the integer N.\n",
    "The next N lines contains the N space separated elements of array A.\n",
    "\n",
    "### Output Format\n",
    "\n",
    "Print the determinant of A .\n",
    "\n",
    "### Sample Input\n",
    "\n",
    "    2\n",
    "    1.1 1.1\n",
    "    1.1 1.1\n",
    "\n",
    "### Sample Output\n",
    "\n",
    "    0.0"
   ]
  },
  {
   "cell_type": "code",
   "execution_count": 4,
   "metadata": {},
   "outputs": [
    {
     "name": "stdout",
     "output_type": "stream",
     "text": [
      "Input\n",
      "2\n",
      "1.1 1.1\n",
      "1.1 1.1\n",
      "\n",
      "Output\n",
      "0.0\n"
     ]
    }
   ],
   "source": [
    "import numpy as np\n",
    "print('Input')\n",
    "N=int(input())\n",
    "\n",
    "A=np.array([input().split()for i in range (N)],float)\n",
    "print('\\nOutput')\n",
    "print(np.linalg.det(A).round(2))\n",
    "\n"
   ]
  },
  {
   "cell_type": "code",
   "execution_count": null,
   "metadata": {},
   "outputs": [],
   "source": []
  }
 ],
 "metadata": {
  "kernelspec": {
   "display_name": "Python 3",
   "language": "python",
   "name": "python3"
  },
  "language_info": {
   "codemirror_mode": {
    "name": "ipython",
    "version": 3
   },
   "file_extension": ".py",
   "mimetype": "text/x-python",
   "name": "python",
   "nbconvert_exporter": "python",
   "pygments_lexer": "ipython3",
   "version": "3.8.5"
  }
 },
 "nbformat": 4,
 "nbformat_minor": 4
}
