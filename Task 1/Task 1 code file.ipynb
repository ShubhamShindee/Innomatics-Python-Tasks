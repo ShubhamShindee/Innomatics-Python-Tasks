{
 "cells": [
  {
   "cell_type": "markdown",
   "metadata": {},
   "source": [
    "## Q.1.Say \"Hello, World!\"\n",
    "\n",
    "With Python\n",
    "\n",
    "Here is a sample line of code that can be executed in Python:\n",
    "\n",
    "print(\"Hello, World!\")\n",
    "\n",
    "You can just as easily store a string as a variable and then print it to stdout:\n",
    "\n",
    "my_string = \"Hello, World!\"\n",
    "\n",
    "print(my_string)\n",
    "\n",
    "The above code will print Hello, World! on your screen. Try it yourself in the editor below!\n",
    "\n",
    "###### Input Format\n",
    "You do not need to read any input in this challenge.\n",
    "\n",
    "###### Output Format\n",
    "Print Hello, World! to stdout.\n",
    "\n",
    "###### Sample Output\n",
    "Hello, World!"
   ]
  },
  {
   "cell_type": "code",
   "execution_count": 1,
   "metadata": {},
   "outputs": [
    {
     "name": "stdout",
     "output_type": "stream",
     "text": [
      "Hello,World!\n"
     ]
    }
   ],
   "source": [
    "print('Hello,World!')"
   ]
  },
  {
   "cell_type": "code",
   "execution_count": 2,
   "metadata": {},
   "outputs": [
    {
     "name": "stdout",
     "output_type": "stream",
     "text": [
      "Hello,World!\n"
     ]
    }
   ],
   "source": [
    "str='Hello,World!'\n",
    "print(str)"
   ]
  },
  {
   "cell_type": "markdown",
   "metadata": {},
   "source": [
    "## Q.2.Python If-Else\n",
    "\n",
    "#### Task\n",
    "\n",
    "Given an integer, , perform the following conditional actions:\n",
    "      \n",
    "    If is odd, print Weird\n",
    "    If is even and in the inclusive range of to , print Not Weird\n",
    "    If is even and in the inclusive range of to , print Weird\n",
    "    If is even and greater than , print Not Weird\n",
    "\n",
    "Input Format\n",
    "    \n",
    "    A single line containing a positive integer, .\n",
    "\n",
    "Constraints \n",
    "   \n",
    "    1<=n<=100\n",
    "\n",
    "Output Format\n",
    "\n",
    "    Print Weird if the number is weird. Otherwise, print Not Weird .\n",
    "\n",
    "Sample Input 0\n",
    "     \n",
    "    3\n",
    "\n",
    "Sample Output 0\n",
    "\n",
    "    Weird\n",
    "\n",
    "Sample Input 1\n",
    "\n",
    "    24\n",
    "\n",
    "Sample Output 1\n",
    "\n",
    "    Not Weird\n"
   ]
  },
  {
   "cell_type": "code",
   "execution_count": 4,
   "metadata": {},
   "outputs": [
    {
     "name": "stdout",
     "output_type": "stream",
     "text": [
      "3\n",
      "Weird\n"
     ]
    }
   ],
   "source": [
    "n=int(input())\n",
    "if n %2 != 0:\n",
    "    print('Weird')\n",
    "elif n%2 == 0 and n in range(2,6):\n",
    "    print('Not Weird')\n",
    "elif n%2 == 0 and n in range(6,21):\n",
    "    print('Weird')\n",
    "else:\n",
    "    print('Not Weird')"
   ]
  },
  {
   "cell_type": "code",
   "execution_count": 5,
   "metadata": {},
   "outputs": [
    {
     "name": "stdout",
     "output_type": "stream",
     "text": [
      "24\n",
      "Not Weird\n"
     ]
    }
   ],
   "source": [
    "n=int(input())\n",
    "if n %2 != 0:\n",
    "    print('Weird')\n",
    "elif n%2 == 0 and n in range(2,6):\n",
    "    print('Not Weird')\n",
    "elif n%2 == 0 and n in range(6,21):\n",
    "    print('Weird')\n",
    "else:\n",
    "    print('Not Weird')"
   ]
  },
  {
   "cell_type": "markdown",
   "metadata": {},
   "source": [
    "## Q.3.Arithmetic Operators\n",
    "\n",
    "#### Task\n",
    "Read two integers from STDIN and print three lines where:\n",
    "     \n",
    "     1. The first line contains the sum of the two numbers.\n",
    "     2. The second line contains the difference of the two numbers (first - second).\n",
    "     3. The third line contains the product of the two numbers.\n",
    "\n",
    "#### Input Format\n",
    "The first line contains the first integer, . The second line contains the second integer, .\n",
    "\n",
    "##### Output Format\n",
    "Print the three lines as explained above.\n",
    "\n",
    "Sample Input 0\n",
    "\n",
    "    3\n",
    "    2\n",
    "\n",
    "Sample Output 0\n",
    "\n",
    "    5\n",
    "    1\n",
    "    6\n"
   ]
  },
  {
   "cell_type": "code",
   "execution_count": 6,
   "metadata": {},
   "outputs": [
    {
     "name": "stdout",
     "output_type": "stream",
     "text": [
      "input\n",
      "3\n",
      "2\n",
      "output\n",
      "5\n",
      "1\n",
      "6\n"
     ]
    }
   ],
   "source": [
    "print('input')\n",
    "a = int(input())\n",
    "b= int(input())\n",
    "print('output')\n",
    "print(a+b)\n",
    "print(a-b)\n",
    "print(a*b)"
   ]
  },
  {
   "cell_type": "code",
   "execution_count": null,
   "metadata": {},
   "outputs": [],
   "source": []
  },
  {
   "cell_type": "markdown",
   "metadata": {},
   "source": [
    "### 4.Python: Division\n",
    "\n",
    "#### Task\n",
    "Read two integers and print two lines. The first line should contain integer division, // . The second line\n",
    "should contain float division, / .\n",
    "You don't need to perform any rounding or formatting operations.\n",
    "\n",
    "#### Input Format\n",
    "The first line contains the first integer, . The second line contains the second integer, .\n",
    "\n",
    "#### Output Format\n",
    "Print the two lines as described above.\n",
    "\n",
    "Sample Input 0\n",
    "\n",
    "    4\n",
    "    3\n",
    "\n",
    "Sample Output 0\n",
    "    \n",
    "    1\n",
    "    1.33333333333"
   ]
  },
  {
   "cell_type": "code",
   "execution_count": 7,
   "metadata": {},
   "outputs": [
    {
     "name": "stdout",
     "output_type": "stream",
     "text": [
      "Input\n",
      "4\n",
      "3\n",
      "Output\n",
      "1\n",
      "1.3333333333333333\n"
     ]
    }
   ],
   "source": [
    "print('Input')\n",
    "a = int(input())\n",
    "b = int(input())\n",
    "print('Output')\n",
    "print(a//b)\n",
    "print(a/b)\n"
   ]
  },
  {
   "cell_type": "code",
   "execution_count": null,
   "metadata": {},
   "outputs": [],
   "source": []
  },
  {
   "cell_type": "markdown",
   "metadata": {},
   "source": [
    "### 5.Loops\n",
    "\n",
    "#### Task\n",
    "Read an integer . For all non-negative integers , print . See the sample for details.\n",
    "\n",
    "#### Input Format\n",
    "The first and only line contains the integer, .\n",
    "\n",
    "#### Output Format\n",
    "Print lines, one corresponding to each .\n",
    "\n",
    "Sample Input 0\n",
    "\n",
    "    5\n",
    "\n",
    "Sample Output 0\n",
    "\n",
    "    0\n",
    "    1\n",
    "    4\n",
    "    9\n",
    "    16"
   ]
  },
  {
   "cell_type": "code",
   "execution_count": 8,
   "metadata": {},
   "outputs": [
    {
     "name": "stdout",
     "output_type": "stream",
     "text": [
      "Input\n",
      "5\n",
      "Output\n",
      "0\n",
      "1\n",
      "4\n",
      "9\n",
      "16\n"
     ]
    }
   ],
   "source": [
    "print('Input')\n",
    "n = int(input())\n",
    "print('Output')\n",
    "for i in range (0,n):\n",
    "    print(i**2)"
   ]
  },
  {
   "cell_type": "code",
   "execution_count": null,
   "metadata": {},
   "outputs": [],
   "source": []
  },
  {
   "cell_type": "markdown",
   "metadata": {},
   "source": [
    "### 6.Write a function\n",
    "We add a Leap Day on February 29, almost every four years. The leap day is an extra, or intercalary dayand we add it to the shortest month of the year, February.\n",
    "\n",
    "In the Gregorian calendar three criteria must be taken into account to identify leap years:\n",
    "       \n",
    "    The year can be evenly divided by 4, is a leap year, unless:\n",
    "    The year can be evenly divided by 100, it is NOT a leap year, unless:\n",
    "    The year is also evenly divisible by 400. Then it is a leap year.\n",
    "\n",
    "This means that in the Gregorian calendar, the years 2000 and 2400 are leap years, while 1800, 1900,\n",
    "2100, 2200, 2300 and 2500 are NOT leap years.Source\n",
    "\n",
    "#### Task\n",
    "You are given the year, and you have to write a function to check if the year is leap or not.\n",
    "Note that you have to complete the function and remaining code is given as template.\n",
    "\n",
    "#### Input Format\n",
    "Read y, the year that needs to be checked.\n",
    "\n",
    "#### Output Format\n",
    "Output is taken care of by the template. Your function must return a boolean value (True/False)\n",
    "\n",
    "Sample Input 0\n",
    "\n",
    "    1990\n",
    "\n",
    "Sample Output 0\n",
    "   \n",
    "    False\n",
    "\n",
    "Explanation 0\n",
    "   \n",
    "    1990 is not a multiple of 4 hence it's not a leap year"
   ]
  },
  {
   "cell_type": "code",
   "execution_count": 15,
   "metadata": {},
   "outputs": [
    {
     "name": "stdout",
     "output_type": "stream",
     "text": [
      "2004\n",
      "True\n"
     ]
    }
   ],
   "source": [
    "def is_leap(year):\n",
    "    leap = False\n",
    "    if year % 4 == 0:\n",
    "        return True\n",
    "    elif year % 400 == 0:\n",
    "        return True\n",
    "    else:\n",
    "        leap\n",
    "        \n",
    "    return leap\n",
    "\n",
    "year = int(input())\n",
    "print(is_leap(year))"
   ]
  },
  {
   "cell_type": "code",
   "execution_count": 16,
   "metadata": {},
   "outputs": [
    {
     "name": "stdout",
     "output_type": "stream",
     "text": [
      "1998\n",
      "False\n"
     ]
    }
   ],
   "source": [
    "def is_leap(year):\n",
    "    leap = False\n",
    "    if year % 4 == 0:\n",
    "        return True\n",
    "    elif year % 400 == 0:\n",
    "        return True\n",
    "    else:\n",
    "        leap\n",
    "        \n",
    "    return leap\n",
    "\n",
    "year = int(input())\n",
    "print(is_leap(year))"
   ]
  },
  {
   "cell_type": "code",
   "execution_count": null,
   "metadata": {},
   "outputs": [],
   "source": []
  },
  {
   "cell_type": "markdown",
   "metadata": {},
   "source": [
    "### 7.Print Function \n",
    "\n",
    "The included code stub will read an integer, , from STDIN.Without using any string methods, try to print the following:\n",
    "\n",
    "Note that \"\" represents the consecutive values in between.\n",
    "\n",
    "Example\n",
    "\n",
    "Print the string .\n",
    "\n",
    "#### Input Format\n",
    "\n",
    "The first line contains an integer .\n",
    "\n",
    "#### Output Format\n",
    "\n",
    "Print the list of integers from  through  as a string, without spaces.\n",
    "\n",
    "Sample Input 0\n",
    "\n",
    "    3\n",
    "Sample Output 0\n",
    "\n",
    "    123"
   ]
  },
  {
   "cell_type": "code",
   "execution_count": 2,
   "metadata": {},
   "outputs": [
    {
     "name": "stdout",
     "output_type": "stream",
     "text": [
      "input\n",
      "5\n",
      "Output\n",
      "12345"
     ]
    }
   ],
   "source": [
    "print('input')\n",
    "n = int(input())\n",
    "print('Output')\n",
    "for i in range (0,n):\n",
    "    print(i+1,end=\"\")"
   ]
  },
  {
   "cell_type": "code",
   "execution_count": null,
   "metadata": {},
   "outputs": [],
   "source": []
  }
 ],
 "metadata": {
  "kernelspec": {
   "display_name": "Python 3",
   "language": "python",
   "name": "python3"
  },
  "language_info": {
   "codemirror_mode": {
    "name": "ipython",
    "version": 3
   },
   "file_extension": ".py",
   "mimetype": "text/x-python",
   "name": "python",
   "nbconvert_exporter": "python",
   "pygments_lexer": "ipython3",
   "version": "3.8.5"
  }
 },
 "nbformat": 4,
 "nbformat_minor": 4
}
