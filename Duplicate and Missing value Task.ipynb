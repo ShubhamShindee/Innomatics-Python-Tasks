{
 "cells": [
  {
   "cell_type": "code",
   "execution_count": 1,
   "metadata": {},
   "outputs": [],
   "source": [
    "## Making Function to findout Duplicate and missing values from given list\n",
    "\n",
    "def Duplicate_and_missing(list):  \n",
    "    \n",
    "    new_list=[]       ## Making New List of values ( Containing No Duplicate values)\n",
    "    Duplicate=[]      ## Making new List of duplicate values\n",
    "    Missing=[]        ## Making new list of missing values\n",
    "    \n",
    "    for i in list:                ## for loop to iterate each value in list\n",
    "        if i not in new_list:     ## If value not in new list it gets added to new list\n",
    "            new_list.append(i)\n",
    "            new_list.sort()       ## sorting values in new list in ascending order for easy to understand\n",
    "    \n",
    "        elif i not in Duplicate:  ## If value not in duplicate list it gets added to duplicate list \n",
    "            Duplicate.append(i)   ## Have to add this elif to avoid the repeatation of values in duplicate list   \n",
    "            Duplicate.sort()      ## sorting duplicate values in ascending order for easy to understand\n",
    "            \n",
    "        else:                     ## else we pass the value\n",
    "            pass                  \n",
    "    \n",
    "    for j in range(1,max(new_list)+1):   ## For loop for missing values \n",
    "        if j not in new_list:            ## if value is not found in new list then it will be the missing value and \n",
    "            Missing.append(j)            ## get added to missing list\n",
    "            Missing.sort()               ## sorting missing values in ascending order for easy to understand\n",
    "            \n",
    "    print(f'Original list is : {list}\\n')            ## Printing Original list\n",
    "    print(f'New List is : {new_list}\\n')             ## Printing new list containing no duplicate values\n",
    "    print(f'Duplicate values are : {Duplicate}\\n')   ## printing Duplicate values list\n",
    "    print(f'Missing values are : {Missing}')         ## Printing Missing values list"
   ]
  },
  {
   "cell_type": "code",
   "execution_count": 2,
   "metadata": {},
   "outputs": [
    {
     "name": "stdout",
     "output_type": "stream",
     "text": [
      "Original list is : [9, 1, 6, 4, 3, 10, 1, 2, 7, 9, 11, 2, 4, 12, 1, 16, 17, 9, 6, 11, 18, 20, 1, 2, 14, 10]\n",
      "\n",
      "New List is : [1, 2, 3, 4, 6, 7, 9, 10, 11, 12, 14, 16, 17, 18, 20]\n",
      "\n",
      "Duplicate values are : [1, 2, 4, 6, 9, 10, 11]\n",
      "\n",
      "Missing values are : [5, 8, 13, 15, 19]\n"
     ]
    }
   ],
   "source": [
    "## passing list\n",
    "list=[9,1,6,4,3,10,1,2,7,9,11,2,4,12,1,16,17,9,6,11,18,20,1,2,14,10]\n",
    "Duplicate_and_missing(list)"
   ]
  },
  {
   "cell_type": "code",
   "execution_count": null,
   "metadata": {},
   "outputs": [],
   "source": []
  }
 ],
 "metadata": {
  "kernelspec": {
   "display_name": "Python 3",
   "language": "python",
   "name": "python3"
  },
  "language_info": {
   "codemirror_mode": {
    "name": "ipython",
    "version": 3
   },
   "file_extension": ".py",
   "mimetype": "text/x-python",
   "name": "python",
   "nbconvert_exporter": "python",
   "pygments_lexer": "ipython3",
   "version": "3.8.5"
  }
 },
 "nbformat": 4,
 "nbformat_minor": 4
}
