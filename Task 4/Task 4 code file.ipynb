{
 "cells": [
  {
   "cell_type": "markdown",
   "metadata": {},
   "source": [
    "## Q.1 Swap Case String\n",
    "You are given a string and your task is to swap cases. In other words, convert all lowercase letters to\n",
    "uppercase letters and vice versa.\n",
    "\n",
    "### Sample Input 0\n",
    "HackerRank.com presents \"Pythonist 2\".\n",
    "\n",
    "### Sample Output 0\n",
    "hACKERrANK.COM PRESENTS \"pYTHONIST 2\"\n"
   ]
  },
  {
   "cell_type": "code",
   "execution_count": 3,
   "metadata": {},
   "outputs": [
    {
     "name": "stdout",
     "output_type": "stream",
     "text": [
      "Input String:\n",
      "HackerRank.com presents \"Pythonist 2\".\n",
      "\n",
      "Output String:\n",
      "hACKERrANK.COM PRESENTS \"pYTHONIST 2\".\n"
     ]
    }
   ],
   "source": [
    "def swap_case(s):\n",
    "    new_str=''\n",
    "    for i in s:\n",
    "        if (i.isupper())==True:\n",
    "            new_str+=i.lower()\n",
    "        elif(i.islower())==True:\n",
    "            new_str+=i.upper()\n",
    "        else: \n",
    "            new_str+=i\n",
    "    return new_str\n",
    "        \n",
    "if __name__ == '__main__':\n",
    "    print('Input String:')\n",
    "    s = input()\n",
    "    result = swap_case(s)\n",
    "    print('\\nOutput String:')\n",
    "    print(result)"
   ]
  },
  {
   "cell_type": "markdown",
   "metadata": {},
   "source": [
    "## Q.2 String Split and Join\n",
    "You are given a string. Split the string on a \" \" (space) delimiter and join using a - hyphen.\n",
    "\n",
    "### Input Format\n",
    "The first line contains a string consisting of space separated words.\n",
    "\n",
    "### Output Format\n",
    "Print the formatted string as explained above.\n",
    "\n",
    "### Sample Input\n",
    "this is a string\n",
    "\n",
    "### Sample Output\n",
    "this-is-a-string"
   ]
  },
  {
   "cell_type": "code",
   "execution_count": 4,
   "metadata": {},
   "outputs": [
    {
     "name": "stdout",
     "output_type": "stream",
     "text": [
      "Input String\n",
      "this is a string\n",
      "\n",
      "Output String\n",
      "this-is-a-string\n"
     ]
    }
   ],
   "source": [
    "def split_and_join(line):\n",
    "    line=line.split(' ')\n",
    "    line='-'.join(line)\n",
    "    return line\n",
    "\n",
    "if __name__ == '__main__':\n",
    "    print('Input String')\n",
    "    line = input()\n",
    "    result = split_and_join(line)\n",
    "    print('\\nOutput String')\n",
    "    print(result)"
   ]
  },
  {
   "cell_type": "markdown",
   "metadata": {},
   "source": [
    "## Q.3 What's Your Name?\n",
    "You are given the firstname and lastname of a person on two different lines. Your task is to read them and\n",
    "\n",
    "### print the following:\n",
    "Hello firstname lastname! You just delved into python.\n",
    "\n",
    "### Input Format\n",
    "The first line contains the first name, and the second line contains the last name.\n",
    "\n",
    "### Output Format\n",
    "Print the output as mentioned above.\n",
    "\n",
    "### Sample Input 0\n",
    "   \n",
    "    Ross\n",
    "    Taylor\n",
    "\n",
    "### Sample Output 0\n",
    "Hello Ross Taylor! You just delved into python."
   ]
  },
  {
   "cell_type": "code",
   "execution_count": 5,
   "metadata": {},
   "outputs": [
    {
     "name": "stdout",
     "output_type": "stream",
     "text": [
      "Ross\n",
      "Taylor\n",
      "Hello Ross Taylor! You just delved into python.\n"
     ]
    }
   ],
   "source": [
    "def print_full_name(first, last):\n",
    "    print(f'Hello {first} {last}! You just delved into python.')\n",
    "if __name__ == '__main__':\n",
    "    first_name = input()\n",
    "    last_name = input()\n",
    "    print_full_name(first_name, last_name)"
   ]
  },
  {
   "cell_type": "markdown",
   "metadata": {},
   "source": [
    "## Q.4 String Mutations\n",
    "\n",
    "Read a given string, change the character at a given index and then print the modified string.\n",
    "\n",
    "### Input Format\n",
    "The first line contains a string, S.\n",
    "The next line contains an integeri , denoting the index location and a character c separated by a space.\n",
    "\n",
    "## Output Format\n",
    "Using any of the methods explained above, replace the character at index i with character c .\n",
    "\n",
    "## Sample Input\n",
    "abracadabra\n",
    "\n",
    "5 k\n",
    "\n",
    "## Sample Output\n",
    "abrackdabr"
   ]
  },
  {
   "cell_type": "code",
   "execution_count": 1,
   "metadata": {},
   "outputs": [
    {
     "name": "stdout",
     "output_type": "stream",
     "text": [
      "Input String\n",
      "abracadabra\n",
      "\n",
      "Index and Character\n",
      "5 k\n",
      "\n",
      "Outut String\n",
      "abrackdabra\n"
     ]
    }
   ],
   "source": [
    "def mutate_string(string, position, character):\n",
    "    return string[:position]+str(character)+string[position+1:]\n",
    "\n",
    "if __name__ == '__main__':\n",
    "    print('Input String')\n",
    "    s = input()\n",
    "    print('\\nIndex and Character')\n",
    "    i, c = input().split()\n",
    "    s_new = mutate_string(s, int(i), c)\n",
    "    print('\\nOutut String')\n",
    "    print(s_new)"
   ]
  },
  {
   "cell_type": "markdown",
   "metadata": {},
   "source": [
    "## Find a String\n",
    "\n",
    "In this challenge, the user enters a string and a substring. You have to print the number of times that the substring occurs in the given string. String traversal will take place from left to right, not from right to left.\n",
    "\n",
    "NOTE: String letters are case-sensitive.\n",
    "\n",
    "### Input Format\n",
    "\n",
    "The first line of input contains the original string. The next line contains the substring.\n",
    "\n",
    "Each character in the string is an ascii character.\n",
    "\n",
    "### Output Format\n",
    "\n",
    "Output the integer number indicating the total number of occurrences of the substring in the original string.\n",
    "\n",
    "### Sample Input\n",
    "\n",
    "    ABCDCDC\n",
    "    CDC\n",
    "\n",
    "### Sample Output\n",
    "\n",
    "    2"
   ]
  },
  {
   "cell_type": "code",
   "execution_count": 1,
   "metadata": {},
   "outputs": [
    {
     "name": "stdout",
     "output_type": "stream",
     "text": [
      "Enter String:\n",
      "ABCDCDC\n",
      "\n",
      "Enter Sub-string:\n",
      "CDC\n",
      "\n",
      "Count of Sub string in string:\n",
      "2\n"
     ]
    }
   ],
   "source": [
    "def count_substring(string, sub_string):\n",
    "    count=0\n",
    "    for i in range (len(string)):\n",
    "        if string[i:i+len(sub_string)]==sub_string:\n",
    "            count += 1\n",
    "    return count\n",
    "\n",
    "if __name__ == '__main__':\n",
    "    print('Enter String:')\n",
    "    string = input().strip()\n",
    "    print('\\nEnter Sub-string:')\n",
    "    sub_string = input().strip()\n",
    "    \n",
    "    count = count_substring(string, sub_string)\n",
    "    print('\\nCount of Sub string in string:')\n",
    "    print(count)"
   ]
  },
  {
   "cell_type": "markdown",
   "metadata": {},
   "source": [
    "## Q.6 String Validator\n",
    "You are given a string S .\n",
    "Your task is to find out if the string S contains: alphanumeric characters, alphabetical characters, digits,\n",
    "lowercase and uppercase characters.\n",
    "\n",
    "### Input Format\n",
    "A single line containing a string S .\n",
    "\n",
    "### Output Format\n",
    "    In the first line, print True if S has any alphanumeric characters. Otherwise, print False .\n",
    "    In the second line, print True if S has any alphabetical characters. Otherwise, print False .\n",
    "    In the third line, print True if S has any digits. Otherwise, print False .\n",
    "    In the fourth line, print True if S has any lowercase characters. Otherwise, print False .\n",
    "    In the fifth line, print True if S has any uppercase characters. Otherwise, print False .\n",
    "### Sample Input\n",
    "    qA2\n",
    "### Sample Output\n",
    "    True\n",
    "    True\n",
    "    True\n",
    "    True\n",
    "    True"
   ]
  },
  {
   "cell_type": "code",
   "execution_count": 2,
   "metadata": {},
   "outputs": [
    {
     "name": "stdout",
     "output_type": "stream",
     "text": [
      "Input String:\n",
      "qA2\n",
      "\n",
      "Output Result\n",
      "\n",
      "True\n",
      "True\n",
      "True\n",
      "True\n",
      "True\n"
     ]
    }
   ],
   "source": [
    "print('Input String:')\n",
    "s = input()\n",
    "print('\\nOutput Result\\n')\n",
    "print(any(i.isalnum() for i in s) )\n",
    "print(any(i.isalpha() for i in s) )\n",
    "print(any(i.isdigit() for i in s) )\n",
    "print(any(i.islower() for i in s) )\n",
    "print(any(i.isupper() for i in s) )"
   ]
  },
  {
   "attachments": {
    "image.png": {
     "image/png": "[encoded data removed]"
    }
   },
   "cell_type": "markdown",
   "metadata": {},
   "source": [
    "## Q.7 Text Alignment\n",
    "You are given a partial code that is used for generating the HackerRank Logo of variable thickness.\n",
    "Your task is to replace the blank (______) with rjust, ljust or center.\n",
    "\n",
    "### Input Format\n",
    "\n",
    "A single line containing the thickness value for the logo.\n",
    "\n",
    "### Constraints\n",
    "The thickness must be an odd number.\n",
    "\n",
    "### Output Format\n",
    "\n",
    "Output the desired logo.\n",
    "\n",
    "### Sample Input\n",
    "\n",
    "5\n",
    "\n",
    "### Sample Output\n",
    "![image.png](attachment:image.png)\n"
   ]
  },
  {
   "cell_type": "code",
   "execution_count": 5,
   "metadata": {},
   "outputs": [
    {
     "name": "stdout",
     "output_type": "stream",
     "text": [
      "Enter Thickness\n",
      "5\n",
      "\n",
      "Outut\n",
      "\n",
      "    H    \n",
      "   HHH   \n",
      "  HHHHH  \n",
      " HHHHHHH \n",
      "HHHHHHHHH\n",
      "  HHHHH               HHHHH             \n",
      "  HHHHH               HHHHH             \n",
      "  HHHHH               HHHHH             \n",
      "  HHHHH               HHHHH             \n",
      "  HHHHH               HHHHH             \n",
      "  HHHHH               HHHHH             \n",
      "  HHHHHHHHHHHHHHHHHHHHHHHHH   \n",
      "  HHHHHHHHHHHHHHHHHHHHHHHHH   \n",
      "  HHHHHHHHHHHHHHHHHHHHHHHHH   \n",
      "  HHHHH               HHHHH             \n",
      "  HHHHH               HHHHH             \n",
      "  HHHHH               HHHHH             \n",
      "  HHHHH               HHHHH             \n",
      "  HHHHH               HHHHH             \n",
      "  HHHHH               HHHHH             \n",
      "                    HHHHHHHHH \n",
      "                     HHHHHHH  \n",
      "                      HHHHH   \n",
      "                       HHH    \n",
      "                        H     \n"
     ]
    }
   ],
   "source": [
    "print('Enter Thickness')\n",
    "thickness = int(input()) #This must be an odd number\n",
    "c = 'H'\n",
    "print('\\nOutut\\n')\n",
    "#Top Cone\n",
    "for i in range(thickness):\n",
    "    print((c*i).rjust(thickness-1)+c+(c*i).ljust(thickness-1))\n",
    "\n",
    "#Top Pillars\n",
    "for i in range(thickness+1):\n",
    "    print((c*thickness).center(thickness*2)+(c*thickness).center(thickness*6))\n",
    "\n",
    "#Middle Belt\n",
    "for i in range((thickness+1)//2):\n",
    "    print((c*thickness*5).center(thickness*6))    \n",
    "\n",
    "#Bottom Pillars\n",
    "for i in range(thickness+1):\n",
    "    print((c*thickness).center(thickness*2)+(c*thickness).center(thickness*6))    \n",
    "\n",
    "#Bottom Cone\n",
    "for i in range(thickness):\n",
    "    print(((c*(thickness-i-1)).rjust(thickness)+c+(c*(thickness-i-1)).ljust(thickness)).rjust(thickness*6))"
   ]
  },
  {
   "cell_type": "markdown",
   "metadata": {},
   "source": [
    "## Q.8 Text Wrap\n",
    "You are given a string S and width w.\n",
    "Your task is to wrap the string into a paragraph of width w .\n",
    "\n",
    "### Input Format\n",
    "The first line contains a string,S.\n",
    "The second line contains the width, w.\n",
    "\n",
    "### Output Format\n",
    "Print the text wrapped paragraph.\n",
    "\n",
    "### Sample Input 0\n",
    "    ABCDEFGHIJKLIMNOQRSTUVWXYZ\n",
    "    4\n",
    "\n",
    "### Sample Output 0\n",
    "    ABCD\n",
    "    EFGH\n",
    "    IJKL\n",
    "    IMNO\n",
    "    QRST\n",
    "    UVWX\n",
    "    Y"
   ]
  },
  {
   "cell_type": "code",
   "execution_count": 7,
   "metadata": {},
   "outputs": [
    {
     "name": "stdout",
     "output_type": "stream",
     "text": [
      "Enter String\n",
      "ABCDEFGHIJKLIMNOQRSTUVWXYZ\n",
      "\n",
      "Enter Max Width\n",
      "4\n",
      "\n",
      "Output\n",
      "\n",
      "ABCD\n",
      "EFGH\n",
      "IJKL\n",
      "IMNO\n",
      "QRST\n",
      "UVWX\n",
      "YZ\n",
      "\n"
     ]
    }
   ],
   "source": [
    "def wrap(string, max_width):\n",
    "    str = \"\"\n",
    "    for i in range(0,len(string),max_width):\n",
    "        str += string[i:i+max_width] + \"\\n\"\n",
    "    return str\n",
    "\n",
    "print('Enter String')\n",
    "string =input()\n",
    "print('\\nEnter Max Width')\n",
    "max_width =int(input())\n",
    "\n",
    "result = wrap(string, max_width)\n",
    "print('\\nOutput\\n')\n",
    "print(result)"
   ]
  },
  {
   "attachments": {
    "image.png": {
     "image/png": "[encoded data removed]"
    }
   },
   "cell_type": "markdown",
   "metadata": {},
   "source": [
    "## Q.9 Designer Door Mat\n",
    "\n",
    "Mr. Vincent works in a door mat manufacturing company. One day, he designed a new door mat with the following specifications:\n",
    "\n",
    "Mat size must be N X M ( N is an odd natural number,N and 3 is N times .)\n",
    "\n",
    "The design should have 'WELCOME' written in the center.\n",
    "\n",
    "The design pattern should only use |, . and - characters.\n",
    "\n",
    "### Input Format\n",
    "\n",
    "A single line containing the space separated values of  and .\n",
    "\n",
    "### Output Format\n",
    "\n",
    "Output the design pattern.\n",
    "\n",
    "### Sample Input\n",
    "\n",
    "9 27\n",
    "\n",
    "## Sample Output\n",
    "![image.png](attachment:image.png)"
   ]
  },
  {
   "cell_type": "code",
   "execution_count": 1,
   "metadata": {},
   "outputs": [
    {
     "name": "stdout",
     "output_type": "stream",
     "text": [
      "Input\n",
      "7 21\n",
      "\n",
      "Output\n",
      "\n",
      "---------.|.---------\n",
      "------.|..|..|.------\n",
      "---.|..|..|..|..|.---\n",
      "-------WELCOME-------\n",
      "---.|..|..|..|..|.---\n",
      "------.|..|..|.------\n",
      "---------.|.---------\n"
     ]
    }
   ],
   "source": [
    "print('Input')\n",
    "N,M=map(int,input().split())\n",
    "pattern = [('.|.'*(2*i + 1)).center(M, '-') for i in range(N//2)]\n",
    "print('\\nOutput\\n')\n",
    "print('\\n'.join(pattern + ['WELCOME'.center(M, '-')] + pattern[::-1]))"
   ]
  },
  {
   "cell_type": "markdown",
   "metadata": {},
   "source": [
    "## Q.10 String Formatting\n",
    "\n",
    "Given an integer,n , print the following values for each integer from i to 1:n\n",
    "\n",
    "1. Decimal\n",
    "2. Octal\n",
    "3. Hexadecimal (capitalized)\n",
    "4. Binary\n",
    "\n",
    "The four values must be printed on a single line in the order specified above for each i from 1 to n.Each value should be space-padded to match the width of the binary value of n.\n",
    "\n",
    "### Input Format\n",
    "A single integer denoting n.\n",
    "\n",
    "### Output Format\n",
    "Print lines where each line i (in the range ) contains the respective decimal, octal, capitalized hexadecimal, and binary values of i. Each printed value must be formatted to the width of the binary value of n .\n",
    "\n",
    "### Sample Input\n",
    "17\n",
    "### Sample Output\n",
    "    1 1 1 1\n",
    "    2 2 2 10\n",
    "    3 3 3 11\n",
    "    4 4 4 100\n",
    "    5 5 5 101\n",
    "    6 6 6 110\n",
    "    7 7 7 111\n",
    "    8 10 8 1000\n",
    "    9 11 9 1001\n",
    "    10 12 A 1010\n",
    "    11 13 B 1011\n",
    "    12 14 C 1100\n",
    "    13 15 D 1101\n",
    "    14 16 E 1110\n",
    "    15 17 F 1111\n",
    "    16 20 10 10000\n",
    "    17 21 11 10001\n"
   ]
  },
  {
   "cell_type": "code",
   "execution_count": 3,
   "metadata": {},
   "outputs": [
    {
     "name": "stdout",
     "output_type": "stream",
     "text": [
      "Input\n",
      "\n",
      "17\n",
      "\n",
      "Output\n",
      "\n",
      "    1     1     1     1\n",
      "    2     2     2    10\n",
      "    3     3     3    11\n",
      "    4     4     4   100\n",
      "    5     5     5   101\n",
      "    6     6     6   110\n",
      "    7     7     7   111\n",
      "    8    10     8  1000\n",
      "    9    11     9  1001\n",
      "   10    12     A  1010\n",
      "   11    13     B  1011\n",
      "   12    14     C  1100\n",
      "   13    15     D  1101\n",
      "   14    16     E  1110\n",
      "   15    17     F  1111\n",
      "   16    20    10 10000\n",
      "   17    21    11 10001\n"
     ]
    }
   ],
   "source": [
    "def print_formatted(number):\n",
    "    width=len(str(bin(number))[2:])\n",
    "    print('\\nOutput\\n')\n",
    "    for i in range (1,number+1):\n",
    "        print(str(i).rjust(width,' '),oct(i)[2:].rjust(width,' '),\n",
    "        hex(i)[2:].upper().rjust(width,' '),bin(i)[2:].rjust(width,' '))\n",
    "    \n",
    "\n",
    "if __name__ == '__main__':\n",
    "    print('Input\\n')\n",
    "    n = int(input())\n",
    "    print_formatted(n)"
   ]
  },
  {
   "attachments": {
    "image.png": {
     "image/png": "[encoded data removed]"
    }
   },
   "cell_type": "markdown",
   "metadata": {},
   "source": [
    "## Q.11 AlphaBet Rangoli\n",
    "You are given an integer, N. Your task is to print an alphabet rangoli of size N .(Rangoli is a form of\n",
    "Indian folk art based on creation of patterns.)\n",
    "\n",
    "### Input Format\n",
    "Only one line of input containing N, the size of the rangoli.\n",
    "\n",
    "### Output Format\n",
    "Print the alphabet rangoli in the format explained above.\n",
    "\n",
    "### Sample Input\n",
    "5\n",
    "\n",
    "### Sample Output\n",
    "![image.png](attachment:image.png)"
   ]
  },
  {
   "cell_type": "code",
   "execution_count": 1,
   "metadata": {},
   "outputs": [
    {
     "name": "stdout",
     "output_type": "stream",
     "text": [
      "5\n",
      "--------e--------\n",
      "------e-d-e------\n",
      "----e-d-c-d-e----\n",
      "--e-d-c-b-c-d-e--\n",
      "e-d-c-b-a-b-c-d-e\n",
      "--e-d-c-b-c-d-e--\n",
      "----e-d-c-d-e----\n",
      "------e-d-e------\n",
      "--------e--------\n"
     ]
    }
   ],
   "source": [
    "def print_rangoli(size):\n",
    "    n=size\n",
    "    l=list(map(chr,range(97,123)))\n",
    "    m=l[n-1::-1]+l[1:n]\n",
    "    w=len('-'.join(m))\n",
    "    for i in  range (1,n):\n",
    "        print('-'.join(l[n-1:n-i:-1]+l[n-i:n]).center(w,'-'))\n",
    "    for i in  range (n,0,-1):\n",
    "        print('-'.join(l[n-1:n-i:-1]+l[n-i:n]).center(w,'-'))\n",
    "\n",
    "        \n",
    "\n",
    "if __name__ == '__main__':\n",
    "    n = int(input())\n",
    "    print_rangoli(n)"
   ]
  },
  {
   "cell_type": "markdown",
   "metadata": {},
   "source": [
    "## Q.12 Capitalize\n",
    "\n",
    "You are given a string, and your task is to capitalize each word of the string.\n",
    "\n",
    "AFTER: You are asked to verify that the first, middle and last names of people begin with a capital letter in their passports. Given full names, your task is to capitalize the names appropriately.\n",
    "\n",
    "### Input Format\n",
    "A single line of input containing the string,S.\n",
    "\n",
    "### Output Format\n",
    "\n",
    "Print the capitalized string,S.\n",
    "\n",
    "### Sample Input\n",
    "\n",
    "chris alan\n",
    "\n",
    "### Sample Output\n",
    "\n",
    "Chris Alan\n",
    "\n",
    "\n"
   ]
  },
  {
   "cell_type": "code",
   "execution_count": 3,
   "metadata": {},
   "outputs": [
    {
     "name": "stdout",
     "output_type": "stream",
     "text": [
      "chris alan\n",
      "Chris Alan \n"
     ]
    }
   ],
   "source": [
    "def solve(s):\n",
    "    l=s.split(' ')\n",
    "    str=''\n",
    "    for i in l:\n",
    "        str=str+i.capitalize()+' '\n",
    "    return str\n",
    "\n",
    "if __name__ == '__main__':\n",
    "\n",
    "    s = input()\n",
    "\n",
    "    result = solve(s)\n",
    "    \n",
    "    print(result)\n",
    "\n",
    "  "
   ]
  },
  {
   "attachments": {
    "image.png": {
     "image/png": "[encoded data removed]"
    }
   },
   "cell_type": "markdown",
   "metadata": {},
   "source": [
    "## Q13 The Minions Game\n",
    "\n",
    "### Game Rules\n",
    "Both players are given the same string,S.\n",
    "Both players have to make substrings using the letters of the string S.\n",
    "Stuart has to make words starting with consonants.\n",
    "Kevin has to make words starting with vowels.\n",
    "The game ends when both players have made all possible substrings.\n",
    "\n",
    "### Scoring\n",
    "A player gets +1 point for each occurrence of the substring in the string S .\n",
    "\n",
    "#### For Example:\n",
    "    String S = BANANA\n",
    "    Kevin's vowel beginning word = ANA\n",
    "    Here, ANA occurs twice in BANANA. Hence, Kevin will get 2 Points.\n",
    "\n",
    "For better understanding, see the image below\n",
    "    \n",
    "![image.png](attachment:image.png)\n",
    "\n",
    "Your task is to determine the winner of the game and their score.\n",
    "\n",
    "### Input Format\n",
    "A single line of input containing the string S.\n",
    "\n",
    "Note: The string S will contain only uppercase letters[A:Z].\n",
    "\n",
    "### Output Format\n",
    "Print one line: the name of the winner and their score separated by a space.\n",
    "If the game is a draw, print Draw.\n",
    "\n",
    "### Sample Input\n",
    "BANANA\n",
    "### Sample Output\n",
    "Stuart 12\n"
   ]
  },
  {
   "cell_type": "code",
   "execution_count": 4,
   "metadata": {},
   "outputs": [
    {
     "name": "stdout",
     "output_type": "stream",
     "text": [
      "Input String:\n",
      "BANANA\n",
      "\n",
      "Winner\n",
      "Stuart 12\n"
     ]
    }
   ],
   "source": [
    "def minion_game(string):\n",
    "    Stuart=0\n",
    "    Kevin=0\n",
    "    vowel='AEIOU'\n",
    "    for i in range (len(string)):\n",
    "        if string[i]not in vowel:\n",
    "            Stuart=Stuart+(len(string)-i)\n",
    "        else:\n",
    "            Kevin=Kevin+(len(string)-i)\n",
    "    \n",
    "    print('\\nWinner')\n",
    "    if Stuart > Kevin:\n",
    "        print('Stuart',Stuart)\n",
    "    elif Kevin > Stuart:\n",
    "        print('Kevin',Kevin)\n",
    "    else:\n",
    "        print('Draw')\n",
    "\n",
    "if __name__ == '__main__':\n",
    "    print('Input String:')\n",
    "    s = input()\n",
    "    minion_game(s)"
   ]
  },
  {
   "cell_type": "markdown",
   "metadata": {},
   "source": [
    "## Q 14 Merge the Tools!\n",
    "\n",
    "### Sample Input\n",
    "\n",
    "    AABCAAADA\n",
    "    3\n",
    "### Sample Output\n",
    "    AB\n",
    "    CA\n",
    "    AD"
   ]
  },
  {
   "cell_type": "code",
   "execution_count": 8,
   "metadata": {},
   "outputs": [
    {
     "name": "stdout",
     "output_type": "stream",
     "text": [
      "Input\n",
      "AABCAAADA\n",
      "3\n",
      "\n",
      "\n",
      "['A', 'A', 'B']\n",
      "{'A': None, 'B': None}\n",
      "{'A': 1, 'B': 1}\n",
      "dict_keys(['A', 'B'])\n",
      "['A', 'B']\n",
      "\n",
      " Output\n",
      "AB\n",
      "\n",
      "\n",
      "['C', 'A', 'A']\n",
      "{'C': None, 'A': None}\n",
      "{'C': 1, 'A': 1}\n",
      "dict_keys(['C', 'A'])\n",
      "['C', 'A']\n",
      "\n",
      " Output\n",
      "CA\n",
      "\n",
      "\n",
      "['A', 'D', 'A']\n",
      "{'A': None, 'D': None}\n",
      "{'A': 1, 'D': 1}\n",
      "dict_keys(['A', 'D'])\n",
      "['A', 'D']\n",
      "\n",
      " Output\n",
      "AD\n"
     ]
    }
   ],
   "source": [
    "def merge_the_tools(string, k):\n",
    "    l=[]\n",
    "    m=0\n",
    "    for i in range(len(string)//k):\n",
    "        l.append(string[m:m+k])\n",
    "        m+=k\n",
    "    for j in l:\n",
    "        print('\\n')\n",
    "        print(list(j))\n",
    "        print(dict.fromkeys(list(j)))\n",
    "        print(dict.fromkeys(list(j),1))\n",
    "        print(dict.fromkeys(list(j)).keys())\n",
    "        print(list(dict.fromkeys(list(j)).keys()))\n",
    "        print('\\n Output')\n",
    "        print(''.join(list(dict.fromkeys(list(j)).keys())))\n",
    "    \n",
    "    # your code goes here\n",
    "\n",
    "if __name__ == '__main__':\n",
    "    print('Input')\n",
    "    string, k = input(), int(input())\n",
    "    merge_the_tools(string, k)"
   ]
  },
  {
   "cell_type": "code",
   "execution_count": null,
   "metadata": {},
   "outputs": [],
   "source": []
  }
 ],
 "metadata": {
  "kernelspec": {
   "display_name": "Python 3",
   "language": "python",
   "name": "python3"
  },
  "language_info": {
   "codemirror_mode": {
    "name": "ipython",
    "version": 3
   },
   "file_extension": ".py",
   "mimetype": "text/x-python",
   "name": "python",
   "nbconvert_exporter": "python",
   "pygments_lexer": "ipython3",
   "version": "3.8.5"
  }
 },
 "nbformat": 4,
 "nbformat_minor": 4
}
